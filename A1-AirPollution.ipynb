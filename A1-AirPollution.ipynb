{
 "cells": [
  {
   "cell_type": "markdown",
   "metadata": {},
   "source": [
    "## Coursera Assignment 1: Air Pollution"
   ]
  },
  {
   "cell_type": "markdown",
   "metadata": {},
   "source": [
    "### Part 1\n",
    "\n",
    "A function named **pollutantmean** calculates the mean of a pollutant (sulfate or nitrate) across a specified list of monitors. The function takes three arguments: 'directory', 'pollutant', and 'id'. Given a vector monitor ID numbers, 'pollutantmean' reads that monitors' particulate matter data from the directory specified in the 'directory' argument and returns the mean of the pollutant across all of the monitors, ignoring any missing values coded as NA."
   ]
  },
  {
   "cell_type": "code",
   "execution_count": 1,
   "metadata": {},
   "outputs": [],
   "source": [
    "setwd(\"/YandexDisk/Repository/R/Cursera\")"
   ]
  },
  {
   "cell_type": "code",
   "execution_count": 2,
   "metadata": {},
   "outputs": [],
   "source": [
    "pollutantmean <- function(directory, pollutant, id = 1:332) {\n",
    "    df <- data.frame()\n",
    "    files <- list.files(directory, full.names = TRUE)\n",
    "    for (i in id) {\n",
    "        df <- rbind(df, read.csv(files[i]))\n",
    "    }\n",
    "\n",
    "    mean(df[, pollutant], na.rm = TRUE)\n",
    "}"
   ]
  },
  {
   "cell_type": "code",
   "execution_count": 54,
   "metadata": {},
   "outputs": [
    {
     "data": {
      "text/html": [
       "1.47714303030303"
      ],
      "text/latex": [
       "1.47714303030303"
      ],
      "text/markdown": [
       "1.47714303030303"
      ],
      "text/plain": [
       "[1] 1.477143"
      ]
     },
     "metadata": {},
     "output_type": "display_data"
    }
   ],
   "source": [
    "pollutantmean(\"specdata\", \"sulfate\", 34)"
   ]
  },
  {
   "cell_type": "code",
   "execution_count": 53,
   "metadata": {},
   "outputs": [
    {
     "data": {
      "text/html": [
       "1.70604735169492"
      ],
      "text/latex": [
       "1.70604735169492"
      ],
      "text/markdown": [
       "1.70604735169492"
      ],
      "text/plain": [
       "[1] 1.706047"
      ]
     },
     "metadata": {},
     "output_type": "display_data"
    }
   ],
   "source": [
    "pollutantmean(\"specdata\", \"nitrate\", 70:72)"
   ]
  },
  {
   "cell_type": "code",
   "execution_count": 52,
   "metadata": {},
   "outputs": [
    {
     "data": {
      "text/html": [
       "4.06412824256036"
      ],
      "text/latex": [
       "4.06412824256036"
      ],
      "text/markdown": [
       "4.06412824256036"
      ],
      "text/plain": [
       "[1] 4.064128"
      ]
     },
     "metadata": {},
     "output_type": "display_data"
    }
   ],
   "source": [
    "pollutantmean(\"specdata\", \"sulfate\", 1:10)"
   ]
  },
  {
   "cell_type": "code",
   "execution_count": 55,
   "metadata": {},
   "outputs": [
    {
     "data": {
      "text/html": [
       "1.70293184286701"
      ],
      "text/latex": [
       "1.70293184286701"
      ],
      "text/markdown": [
       "1.70293184286701"
      ],
      "text/plain": [
       "[1] 1.702932"
      ]
     },
     "metadata": {},
     "output_type": "display_data"
    }
   ],
   "source": [
    "pollutantmean(\"specdata\", \"nitrate\")"
   ]
  },
  {
   "cell_type": "markdown",
   "metadata": {},
   "source": [
    "### Part 2\n",
    "\n",
    "**Complete** is a function that reads a directory full of files and reports the number of completely observed cases in each data file. The function returns a data frame where the first column is the name of the file and the second column is the number of complete cases."
   ]
  },
  {
   "cell_type": "code",
   "execution_count": 25,
   "metadata": {},
   "outputs": [],
   "source": [
    "complete <- function(directory, id = 1:332) {\n",
    "    files <- list.files(directory, full.names = TRUE)\n",
    "    spots <- data.frame()\n",
    "    for (i in id) {\n",
    "        spots <- rbind(spots, c(i, sum(complete.cases(read.csv(files[i])))))\n",
    "    }\n",
    "    colnames(spots) <- c('id', 'nobs') \n",
    "    print(spots)\n",
    "}"
   ]
  },
  {
   "cell_type": "code",
   "execution_count": 56,
   "metadata": {},
   "outputs": [
    {
     "name": "stdout",
     "output_type": "stream",
     "text": [
      "   id nobs\n",
      "1   6  228\n",
      "2  10  148\n",
      "3  20  124\n",
      "4  34  165\n",
      "5 100  104\n",
      "6 200  460\n",
      "7 310  232\n",
      "[1] 228 148 124 165 104 460 232\n"
     ]
    }
   ],
   "source": [
    "cc <- complete(\"specdata\", c(6, 10, 20, 34, 100, 200, 310))\n",
    "print(cc$nobs)"
   ]
  },
  {
   "cell_type": "code",
   "execution_count": 57,
   "metadata": {},
   "outputs": [
    {
     "name": "stdout",
     "output_type": "stream",
     "text": [
      "  id nobs\n",
      "1 54  219\n",
      "[1] 219\n"
     ]
    }
   ],
   "source": [
    "cc <- complete(\"specdata\", 54)\n",
    "print(cc$nobs)"
   ]
  },
  {
   "cell_type": "code",
   "execution_count": null,
   "metadata": {},
   "outputs": [],
   "source": [
    "RNGversion(\"3.5.1\")  \n",
    "set.seed(42)\n",
    "cc <- complete(\"specdata\", 332:1)\n",
    "use <- sample(332, 10)\n",
    "print(cc[use, \"nobs\"])"
   ]
  },
  {
   "cell_type": "code",
   "execution_count": 61,
   "metadata": {},
   "outputs": [
    {
     "name": "stderr",
     "output_type": "stream",
     "text": [
      "Warning message in RNGkind(\"Mersenne-Twister\", \"Inversion\", \"Rounding\"):\n",
      "\"non-uniform 'Rounding' sampler used\"\n"
     ]
    },
    {
     "name": "stdout",
     "output_type": "stream",
     "text": [
      "[1]  0.2688  0.1127 -0.0086  0.4586  0.0447\n"
     ]
    }
   ],
   "source": [
    "cr <- corr(\"specdata\")                \n",
    "cr <- sort(cr)   \n",
    "RNGversion(\"3.5.1\")\n",
    "set.seed(868)                \n",
    "out <- round(cr[sample(length(cr), 5)], 4)\n",
    "print(out)"
   ]
  },
  {
   "cell_type": "code",
   "execution_count": 63,
   "metadata": {},
   "outputs": [
    {
     "name": "stderr",
     "output_type": "stream",
     "text": [
      "Warning message in RNGkind(\"Mersenne-Twister\", \"Inversion\", \"Rounding\"):\n",
      "\"non-uniform 'Rounding' sampler used\"\n"
     ]
    },
    {
     "name": "stdout",
     "output_type": "stream",
     "text": [
      "[1] 243.0000   0.2540   0.0504  -0.1462  -0.1680   0.5969\n"
     ]
    }
   ],
   "source": [
    "cr <- corr(\"specdata\", 129)                \n",
    "cr <- sort(cr)                \n",
    "n <- length(cr)    \n",
    "RNGversion(\"3.5.1\")\n",
    "set.seed(197)                \n",
    "out <- c(n, round(cr[sample(n, 5)], 4))\n",
    "print(out)"
   ]
  },
  {
   "cell_type": "markdown",
   "metadata": {},
   "source": [
    "____________\n",
    "Here is another way to solve the problem:"
   ]
  },
  {
   "cell_type": "code",
   "execution_count": 32,
   "metadata": {},
   "outputs": [],
   "source": [
    "complete1 <- function(directory, id = 1:332) {\n",
    "    spots <- data.frame() \n",
    "    for (i in id) {\n",
    "      # Чтобы сформировать пути файлов для обработки, используем функцию форматирования строкового \n",
    "      # вектора sprintf(fmt, ...), где fmt(format) задается %(начало трансформации) + \n",
    "      # 03 (размерность числа с ведущими нулями) + d (целое десятичное число)\n",
    "    tmp_file <- paste(directory, \"/\", sprintf(\"%03d\", i),\".csv\",sep=\"\")                                                                   \n",
    "    spots <- rbind(spots, c(sprintf(\"%03d\", i), sum(complete.cases(read.csv(tmp_file)))))\n",
    "    }\n",
    "    colnames(spots) <- c('id', 'nobs') \n",
    "    print(spots)\n",
    "}"
   ]
  },
  {
   "cell_type": "code",
   "execution_count": 35,
   "metadata": {},
   "outputs": [
    {
     "name": "stdout",
     "output_type": "stream",
     "text": [
      "   id nobs\n",
      "1 002 1041\n",
      "2 004  474\n",
      "3 008  192\n",
      "4 010  148\n",
      "5 012   96\n"
     ]
    }
   ],
   "source": [
    "complete1(\"specdata\", c(2, 4, 8, 10, 12))"
   ]
  },
  {
   "cell_type": "markdown",
   "metadata": {},
   "source": [
    "## Part 3\n",
    "\n",
    "**Corr** is a function that takes a directory of data files and a threshold for complete cases and calculates *the correlation between sulfate and nitrate* for monitor locations where the number of completely observed cases (on all variables) is *greater* than the threshold. The function should return a vector of correlations for the monitors that meet the threshold requirement. If no monitors meet the threshold requirement, then the function should return a numeric vector of length 0."
   ]
  },
  {
   "cell_type": "code",
   "execution_count": 46,
   "metadata": {},
   "outputs": [],
   "source": [
    "corr <- function(directory, threshold = 0) {\n",
    "    files <- list.files(directory, pattern=\"*.csv\", full.names = TRUE) # get file list to load\n",
    "    spots_data <- lapply(files, read.csv)  # apply function reaf.csv to combine the file list in one file\n",
    "    spots_data <- do.call(rbind, spots_data) # do.call constructs and executes a function call from a name \n",
    "                                             # or a function and a list of arguments \n",
    "    spots_data <- spots_data[complete.cases(spots_data), ] # getting rid of NA's in our data frame\n",
    "    \n",
    "    v <- numeric()\n",
    "    \n",
    "    for (i in 1:length(files)) {\n",
    "        data <- subset(spots_data, spots_data[, 4] == i)\n",
    "        n_rows <- nrow(data)\n",
    "        \n",
    "        if (n_rows > threshold) {\n",
    "            c <- cor(data$sulfate, data$nitrate)\n",
    "            c <- round(c, digits = 5)\n",
    "            v <- c(v, c)\n",
    "        }\n",
    "    }\n",
    "    return(v)\n",
    "}"
   ]
  },
  {
   "cell_type": "code",
   "execution_count": 47,
   "metadata": {},
   "outputs": [
    {
     "data": {
      "text/html": [
       "<style>\n",
       ".list-inline {list-style: none; margin:0; padding: 0}\n",
       ".list-inline>li {display: inline-block}\n",
       ".list-inline>li:not(:last-child)::after {content: \"\\00b7\"; padding: 0 .5ex}\n",
       "</style>\n",
       "<ol class=list-inline><li>-0.01896</li><li>-0.14051</li><li>-0.0439</li><li>-0.06816</li><li>-0.12351</li><li>-0.07589</li></ol>\n"
      ],
      "text/latex": [
       "\\begin{enumerate*}\n",
       "\\item -0.01896\n",
       "\\item -0.14051\n",
       "\\item -0.0439\n",
       "\\item -0.06816\n",
       "\\item -0.12351\n",
       "\\item -0.07589\n",
       "\\end{enumerate*}\n"
      ],
      "text/markdown": [
       "1. -0.01896\n",
       "2. -0.14051\n",
       "3. -0.0439\n",
       "4. -0.06816\n",
       "5. -0.12351\n",
       "6. -0.07589\n",
       "\n",
       "\n"
      ],
      "text/plain": [
       "[1] -0.01896 -0.14051 -0.04390 -0.06816 -0.12351 -0.07589"
      ]
     },
     "metadata": {},
     "output_type": "display_data"
    }
   ],
   "source": [
    "cr <- corr(\"specdata\", 150)\n",
    "head(cr)"
   ]
  },
  {
   "cell_type": "code",
   "execution_count": 48,
   "metadata": {},
   "outputs": [
    {
     "data": {
      "text/plain": [
       "    Min.  1st Qu.   Median     Mean  3rd Qu.     Max. \n",
       "-0.21057 -0.04999  0.09463  0.12525  0.26845  0.76313 "
      ]
     },
     "metadata": {},
     "output_type": "display_data"
    }
   ],
   "source": [
    "summary(cr)"
   ]
  },
  {
   "cell_type": "code",
   "execution_count": 49,
   "metadata": {},
   "outputs": [
    {
     "data": {
      "text/html": [
       "<style>\n",
       ".list-inline {list-style: none; margin:0; padding: 0}\n",
       ".list-inline>li {display: inline-block}\n",
       ".list-inline>li:not(:last-child)::after {content: \"\\00b7\"; padding: 0 .5ex}\n",
       "</style>\n",
       "<ol class=list-inline><li>-0.01896</li><li>-0.0439</li><li>-0.06816</li><li>-0.07589</li><li>0.76313</li><li>-0.15783</li></ol>\n"
      ],
      "text/latex": [
       "\\begin{enumerate*}\n",
       "\\item -0.01896\n",
       "\\item -0.0439\n",
       "\\item -0.06816\n",
       "\\item -0.07589\n",
       "\\item 0.76313\n",
       "\\item -0.15783\n",
       "\\end{enumerate*}\n"
      ],
      "text/markdown": [
       "1. -0.01896\n",
       "2. -0.0439\n",
       "3. -0.06816\n",
       "4. -0.07589\n",
       "5. 0.76313\n",
       "6. -0.15783\n",
       "\n",
       "\n"
      ],
      "text/plain": [
       "[1] -0.01896 -0.04390 -0.06816 -0.07589  0.76313 -0.15783"
      ]
     },
     "metadata": {},
     "output_type": "display_data"
    }
   ],
   "source": [
    "cr <- corr(\"specdata\", 400)\n",
    "head(cr)"
   ]
  },
  {
   "cell_type": "code",
   "execution_count": 50,
   "metadata": {},
   "outputs": [
    {
     "data": {
      "text/plain": [
       "    Min.  1st Qu.   Median     Mean  3rd Qu.     Max. \n",
       "-0.17623 -0.03109  0.10021  0.13969  0.26849  0.76313 "
      ]
     },
     "metadata": {},
     "output_type": "display_data"
    }
   ],
   "source": [
    "summary(cr)"
   ]
  },
  {
   "cell_type": "code",
   "execution_count": 51,
   "metadata": {},
   "outputs": [
    {
     "data": {
      "text/plain": [
       "   Min. 1st Qu.  Median    Mean 3rd Qu.    Max. \n",
       "                                                "
      ]
     },
     "metadata": {},
     "output_type": "display_data"
    }
   ],
   "source": [
    "cr <- corr(\"specdata\", 5000)\n",
    "summary(cr)"
   ]
  },
  {
   "cell_type": "code",
   "execution_count": 65,
   "metadata": {},
   "outputs": [
    {
     "name": "stdout",
     "output_type": "stream",
     "text": [
      "[1]  0.0000 -0.0190  0.0419  0.1901\n"
     ]
    }
   ],
   "source": [
    "cr <- corr(\"specdata\", 2000)                \n",
    "n <- length(cr)                \n",
    "cr <- corr(\"specdata\", 1000)                \n",
    "cr <- sort(cr)\n",
    "print(c(n, round(cr, 4)))"
   ]
  },
  {
   "cell_type": "markdown",
   "metadata": {},
   "source": [
    "---------\n",
    "\n",
    "Let's try to plot a missing value heat map"
   ]
  },
  {
   "cell_type": "code",
   "execution_count": 2,
   "metadata": {},
   "outputs": [],
   "source": [
    "library(ggplot2)"
   ]
  },
  {
   "cell_type": "code",
   "execution_count": 3,
   "metadata": {},
   "outputs": [],
   "source": [
    "scan_dir <- function(directory) {\n",
    "    files <- list.files(directory, pattern=\"*.csv\", full.names = TRUE) \n",
    "    spots_data <- lapply(files, read.csv)\n",
    "    spots_data <- do.call(rbind, spots_data) \n",
    "    return(spots_data)\n",
    "}"
   ]
  },
  {
   "cell_type": "code",
   "execution_count": 4,
   "metadata": {},
   "outputs": [],
   "source": [
    "df <- scan_dir(\"specdata\")"
   ]
  },
  {
   "cell_type": "code",
   "execution_count": null,
   "metadata": {},
   "outputs": [],
   "source": []
  },
  {
   "cell_type": "code",
   "execution_count": 74,
   "metadata": {},
   "outputs": [
    {
     "data": {
      "image/png": "[encoded data removed]",
      "text/plain": [
       "plot without title"
      ]
     },
     "metadata": {
      "image/png": {
       "height": 420,
       "width": 420
      }
     },
     "output_type": "display_data"
    }
   ],
   "source": [
    "ggplot(df, aes(x = ID, y = Date))"
   ]
  },
  {
   "cell_type": "code",
   "execution_count": 70,
   "metadata": {},
   "outputs": [
    {
     "data": {
      "image/png": "[encoded data removed]",
      "text/plain": [
       "plot without title"
      ]
     },
     "metadata": {
      "image/png": {
       "height": 420,
       "width": 420
      }
     },
     "output_type": "display_data"
    }
   ],
   "source": [
    "heatmap(1 * is.na(df), Rowv = NA, Colv = NA)"
   ]
  },
  {
   "cell_type": "code",
   "execution_count": null,
   "metadata": {},
   "outputs": [],
   "source": []
  }
 ],
 "metadata": {
  "kernelspec": {
   "display_name": "R",
   "language": "R",
   "name": "ir"
  },
  "language_info": {
   "codemirror_mode": "r",
   "file_extension": ".r",
   "mimetype": "text/x-r-source",
   "name": "R",
   "pygments_lexer": "r",
   "version": "4.0.0"
  }
 },
 "nbformat": 4,
 "nbformat_minor": 4
}
